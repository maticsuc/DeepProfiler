{
 "cells": [
  {
   "cell_type": "markdown",
   "metadata": {},
   "source": [
    "# Mean values for separate channels"
   ]
  },
  {
   "cell_type": "code",
   "execution_count": 1,
   "metadata": {},
   "outputs": [],
   "source": [
    "import pandas as pd\n",
    "import numpy as np\n",
    "from tqdm import tqdm\n",
    "import skimage.io\n",
    "from PIL import Image\n",
    "\n",
    "dataset = \"bbbc022\"\n",
    "channels = [\"DNA\", \"RNA\", \"ER\", \"AGP\", \"Mito\"]\n",
    "\n",
    "# Read metadata\n",
    "meta = pd.read_csv(f\"../{dataset}/inputs/metadata/index.csv\")"
   ]
  },
  {
   "cell_type": "code",
   "execution_count": 2,
   "metadata": {},
   "outputs": [],
   "source": [
    "# One-Time operation, ~ 20min\n",
    "# For each channel read all images and save each image's mean, max and min\n",
    "means = {\"channel\": channels, \"images_mean\": [], \"images_max\": [], \"images_min\": [], \"images_max_mean\": [], \"images_min_mean\": []}\n",
    "\n",
    "for channel in channels:\n",
    "    img_means = []\n",
    "    img_max = []\n",
    "    img_min = []\n",
    "\n",
    "    for image in meta[channel]:\n",
    "        img = skimage.io.imread(f\"../{dataset}/inputs/images/{image}\")\n",
    "        img_means.append(img.mean())\n",
    "        img_max.append(img.max())\n",
    "        img_min.append(img.min())\n",
    "    \n",
    "    img_mean = np.array(img_means)\n",
    "    img_max = np.array(img_max)\n",
    "    img_min = np.array(img_min)\n",
    "    \n",
    "    means[\"images_mean\"].append(img_mean.mean())\n",
    "    means[\"images_max\"].append(img_max.max())\n",
    "    means[\"images_min\"].append(img_min.min())\n",
    "    means[\"images_max_mean\"].append(img_max.mean())\n",
    "    means[\"images_min_mean\"].append(img_min.mean())\n",
    "\n",
    "# Save means, max and min to csv\n",
    "df = pd.DataFrame(means)\n",
    "df.to_csv(f\"channel_means_{dataset}.csv\", index=False)"
   ]
  },
  {
   "cell_type": "code",
   "execution_count": 3,
   "metadata": {},
   "outputs": [],
   "source": [
    "# Read mean, max and min from csv\n",
    "df = pd.read_csv(f\"channel_means_{dataset}.csv\")"
   ]
  },
  {
   "cell_type": "code",
   "execution_count": 4,
   "metadata": {},
   "outputs": [],
   "source": [
    "# One-Time operation\n",
    "# Create new mean images for each channel\n",
    "\n",
    "# Read a sample image to keep original metadata and shape\n",
    "sample_image = Image.open(f\"../{dataset}/inputs/images/20585/IXMtest_A01_s1_w164FBEEF7-F77C-4892-86F5-72D0160D4FB2.tif\")\n",
    "\n",
    "for channel in channels:\n",
    "    channel_mean = int(df[df.channel == channel]['images_mean'].item())\n",
    "    new_image = Image.new(sample_image.mode, sample_image.size, channel_mean)\n",
    "    new_image.info.update(sample_image.info)\n",
    "    new_image.save(f\"../{dataset}/inputs/images/{channel}_mean.tif\", **sample_image.info)"
   ]
  },
  {
   "cell_type": "code",
   "execution_count": 5,
   "metadata": {},
   "outputs": [],
   "source": [
    "# One-Time operation\n",
    "# Create index metadata files for DeepProfiler\n",
    "\n",
    "for channel in channels:\n",
    "    channel_meta = meta.copy()\n",
    "    channel_meta[channel] = f\"{channel}_mean.tif\"\n",
    "    channel_meta.to_csv(f\"../{dataset}/inputs/metadata/index_{channel}_mean.csv\", index=False)"
   ]
  }
 ],
 "metadata": {
  "kernelspec": {
   "display_name": "deepprofiler",
   "language": "python",
   "name": "python3"
  },
  "language_info": {
   "codemirror_mode": {
    "name": "ipython",
    "version": 3
   },
   "file_extension": ".py",
   "mimetype": "text/x-python",
   "name": "python",
   "nbconvert_exporter": "python",
   "pygments_lexer": "ipython3",
   "version": "3.8.18"
  }
 },
 "nbformat": 4,
 "nbformat_minor": 2
}
